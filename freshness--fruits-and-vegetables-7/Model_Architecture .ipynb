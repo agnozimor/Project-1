{
 "cells": [
  {
   "cell_type": "code",
   "execution_count": null,
   "metadata": {},
   "outputs": [],
   "source": [
    "import torch\n",
    "import torch.nn as nn\n",
    "import torch.nn.functional as F\n",
    "\n",
    "class ConvBlock(nn.Module):\n",
    "    def __init__(self, in_channels, out_channels, kernel_size, stride=1, padding=0, bn=True, act=True):\n",
    "        super(ConvBlock, self).__init__()\n",
    "        self.conv = nn.Conv2d(in_channels, out_channels, kernel_size, stride, padding, bias=not bn)\n",
    "        self.bn = nn.BatchNorm2d(out_channels) if bn else nn.Identity()\n",
    "        self.act = nn.LeakyReLU(0.1, inplace=True) if act else nn.Identity()\n",
    "\n",
    "    def forward(self, x):\n",
    "        return self.act(self.bn(self.conv(x)))\n",
    "\n",
    "class CSPBlock(nn.Module):\n",
    "    def __init__(self, in_channels, out_channels):\n",
    "        super(CSPBlock, self).__init__()\n",
    "        self.conv1 = ConvBlock(in_channels, out_channels, kernel_size=1)\n",
    "        self.conv2 = ConvBlock(out_channels, out_channels, kernel_size=3, padding=1)\n",
    "\n",
    "    def forward(self, x):\n",
    "        x1 = self.conv1(x)\n",
    "        x2 = self.conv2(x1)\n",
    "        return torch.cat([x1, x2], dim=1)\n",
    "\n",
    "class CSPDarknet53(nn.Module):\n",
    "    def __init__(self):\n",
    "        super(CSPDarknet53, self).__init__()\n",
    "        # Define CSPDarknet53 backbone\n",
    "        self.conv1 = ConvBlock(3, 32, 3, padding=1)\n",
    "        self.conv2 = ConvBlock(32, 64, 3, stride=2, padding=1)\n",
    "        self.cspblock1 = CSPBlock(64, 32)\n",
    "        # More layers should be added according to YOLOv4 architecture...\n",
    "\n",
    "    def forward(self, x):\n",
    "        x = self.conv1(x)\n",
    "        x = self.conv2(x)\n",
    "        x = self.cspblock1(x)\n",
    "        # Add forward passes for more layers...\n",
    "        return x\n",
    "\n",
    "class YOLOv4(nn.Module):\n",
    "    def __init__(self, num_classes):\n",
    "        super(YOLOv4, self).__init__()\n",
    "        self.backbone = CSPDarknet53()\n",
    "        # Define PANet and YOLO detection head\n",
    "        self.conv = ConvBlock(128, 256, kernel_size=1)  # Example head layer\n",
    "\n",
    "    def forward(self, x):\n",
    "        features = self.backbone(x)\n",
    "        x = self.conv(features)\n",
    "        # Add detection layers for YOLOv4\n",
    "        return x\n"
   ]
  },
  {
   "cell_type": "code",
   "execution_count": null,
   "metadata": {},
   "outputs": [],
   "source": []
  },
  {
   "cell_type": "code",
   "execution_count": null,
   "metadata": {},
   "outputs": [],
   "source": []
  }
 ],
 "metadata": {
  "language_info": {
   "name": "python"
  }
 },
 "nbformat": 4,
 "nbformat_minor": 2
}
